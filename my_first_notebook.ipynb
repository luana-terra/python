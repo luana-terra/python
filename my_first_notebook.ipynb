{
  "cells": [
    {
      "cell_type": "markdown",
      "metadata": {
        "id": "view-in-github",
        "colab_type": "text"
      },
      "source": [
        "<a href=\"https://colab.research.google.com/github/luana-terra/python/blob/main/my_first_notebook.ipynb\" target=\"_parent\"><img src=\"https://colab.research.google.com/assets/colab-badge.svg\" alt=\"Open In Colab\"/></a>"
      ]
    },
    {
      "cell_type": "code",
      "execution_count": null,
      "id": "ace53b62-34e9-4370-9913-973ddfe68595",
      "metadata": {
        "tags": [],
        "id": "ace53b62-34e9-4370-9913-973ddfe68595",
        "outputId": "1a932b0f-e9fe-4e49-df60-15b9f1c2a4c8"
      },
      "outputs": [
        {
          "data": {
            "text/plain": [
              "2"
            ]
          },
          "execution_count": 2,
          "metadata": {},
          "output_type": "execute_result"
        }
      ],
      "source": [
        "1+1"
      ]
    },
    {
      "cell_type": "markdown",
      "id": "a304604b-f302-425b-b4b9-388ca81cfe8c",
      "metadata": {
        "id": "a304604b-f302-425b-b4b9-388ca81cfe8c"
      },
      "source": [
        "Strings, Common Functions, and Methods "
      ]
    },
    {
      "cell_type": "code",
      "execution_count": null,
      "id": "e437b809-f78b-4548-af2c-7a48fb7a972d",
      "metadata": {
        "id": "e437b809-f78b-4548-af2c-7a48fb7a972d"
      },
      "outputs": [],
      "source": [
        "question='What are you studying?'\n",
        "answer='data science'"
      ]
    },
    {
      "cell_type": "code",
      "execution_count": null,
      "id": "b09dfe79-da62-442a-a922-d59fcee69120",
      "metadata": {
        "id": "b09dfe79-da62-442a-a922-d59fcee69120",
        "outputId": "cce568ee-b314-44da-cf0e-2392506b054e"
      },
      "outputs": [
        {
          "data": {
            "text/plain": [
              "'What are you studying?'"
            ]
          },
          "execution_count": 2,
          "metadata": {},
          "output_type": "execute_result"
        }
      ],
      "source": [
        "question"
      ]
    },
    {
      "cell_type": "code",
      "execution_count": null,
      "id": "ac943cdb-51ae-4363-92f5-df6fe754d350",
      "metadata": {
        "id": "ac943cdb-51ae-4363-92f5-df6fe754d350",
        "outputId": "358490fd-7336-463a-e404-7fea2b0f45c8"
      },
      "outputs": [
        {
          "name": "stdout",
          "output_type": "stream",
          "text": [
            "What are you studying?\n"
          ]
        }
      ],
      "source": [
        "print(question)"
      ]
    },
    {
      "cell_type": "code",
      "execution_count": null,
      "id": "065e1df2-a640-4511-b2b7-0971ad87d698",
      "metadata": {
        "id": "065e1df2-a640-4511-b2b7-0971ad87d698",
        "outputId": "ac8f88ff-ba68-490b-8e06-02dc2cdcba34"
      },
      "outputs": [
        {
          "name": "stdout",
          "output_type": "stream",
          "text": [
            "What are you studying? \n",
            " data science\n"
          ]
        }
      ],
      "source": [
        "print(question,'\\n',answer)"
      ]
    },
    {
      "cell_type": "code",
      "execution_count": null,
      "id": "f7b2de2b-4ace-41b7-b995-9dc1493dc2cb",
      "metadata": {
        "id": "f7b2de2b-4ace-41b7-b995-9dc1493dc2cb",
        "outputId": "f3b6d662-eb9b-4709-90d2-790b61c46fa0"
      },
      "outputs": [
        {
          "name": "stdout",
          "output_type": "stream",
          "text": [
            "What are you studying? data science\n"
          ]
        }
      ],
      "source": [
        "print(question,answer)"
      ]
    },
    {
      "cell_type": "code",
      "execution_count": null,
      "id": "47536421-348a-43eb-9e1b-465b3d869a71",
      "metadata": {
        "id": "47536421-348a-43eb-9e1b-465b3d869a71",
        "outputId": "d6a1a06a-0239-48e2-aac7-a0ac1d34eb6d"
      },
      "outputs": [
        {
          "data": {
            "text/plain": [
              "'What are you studying?data science'"
            ]
          },
          "execution_count": 6,
          "metadata": {},
          "output_type": "execute_result"
        }
      ],
      "source": [
        "question+answer"
      ]
    },
    {
      "cell_type": "code",
      "execution_count": null,
      "id": "61a6418e-900e-47f9-bbc3-67e70b6c4b89",
      "metadata": {
        "id": "61a6418e-900e-47f9-bbc3-67e70b6c4b89",
        "outputId": "af9aae17-adbe-4b37-f07e-526350238ca7"
      },
      "outputs": [
        {
          "data": {
            "text/plain": [
              "'d'"
            ]
          },
          "execution_count": 7,
          "metadata": {},
          "output_type": "execute_result"
        }
      ],
      "source": [
        "answer[0]"
      ]
    },
    {
      "cell_type": "code",
      "execution_count": null,
      "id": "03981603-d12a-441b-ab80-d38da7da3769",
      "metadata": {
        "id": "03981603-d12a-441b-ab80-d38da7da3769",
        "outputId": "a0c0da56-0561-406d-d556-4e9c16df24e3"
      },
      "outputs": [
        {
          "data": {
            "text/plain": [
              "'e'"
            ]
          },
          "execution_count": 8,
          "metadata": {},
          "output_type": "execute_result"
        }
      ],
      "source": [
        "answer[-1]"
      ]
    },
    {
      "cell_type": "code",
      "execution_count": null,
      "id": "e4f46e45-f60f-4fbc-892f-4ff83c3c57c8",
      "metadata": {
        "id": "e4f46e45-f60f-4fbc-892f-4ff83c3c57c8",
        "outputId": "19076cc1-6ea7-4fa0-f673-4324fe5631b4"
      },
      "outputs": [
        {
          "data": {
            "text/plain": [
              "'ta s'"
            ]
          },
          "execution_count": 10,
          "metadata": {},
          "output_type": "execute_result"
        }
      ],
      "source": [
        "answer[2:6]"
      ]
    },
    {
      "cell_type": "code",
      "execution_count": null,
      "id": "875446a1-f1b6-44d9-9304-adf0fb015b2d",
      "metadata": {
        "id": "875446a1-f1b6-44d9-9304-adf0fb015b2d",
        "outputId": "c48256f1-bfd7-4166-86ff-8c23c2f634f2"
      },
      "outputs": [
        {
          "data": {
            "text/plain": [
              "'ecneics atad'"
            ]
          },
          "execution_count": 11,
          "metadata": {},
          "output_type": "execute_result"
        }
      ],
      "source": [
        "answer[::-1]"
      ]
    },
    {
      "cell_type": "code",
      "execution_count": null,
      "id": "b61e0582-db9c-46b0-9b66-c758c0e3b839",
      "metadata": {
        "id": "b61e0582-db9c-46b0-9b66-c758c0e3b839",
        "outputId": "ff9b19e3-17bd-4c2a-f00e-d44b8fd61ce1"
      },
      "outputs": [
        {
          "data": {
            "text/plain": [
              "'DATA SCIENCE'"
            ]
          },
          "execution_count": 12,
          "metadata": {},
          "output_type": "execute_result"
        }
      ],
      "source": [
        "answer.upper()"
      ]
    },
    {
      "cell_type": "code",
      "execution_count": null,
      "id": "cb2dc780-cbfd-4bdf-8c4b-982a33d68ef5",
      "metadata": {
        "id": "cb2dc780-cbfd-4bdf-8c4b-982a33d68ef5"
      },
      "outputs": [],
      "source": [
        "answer_cap=answer.upper()\n"
      ]
    },
    {
      "cell_type": "code",
      "execution_count": null,
      "id": "790b0d2e-57fb-4973-afc5-543ed3f4fa12",
      "metadata": {
        "id": "790b0d2e-57fb-4973-afc5-543ed3f4fa12",
        "outputId": "039620fe-5120-4dea-b7f8-2d06f012ba59"
      },
      "outputs": [
        {
          "data": {
            "text/plain": [
              "'DATA SCIENCE'"
            ]
          },
          "execution_count": 14,
          "metadata": {},
          "output_type": "execute_result"
        }
      ],
      "source": [
        "answer_cap"
      ]
    },
    {
      "cell_type": "code",
      "execution_count": null,
      "id": "82537b04-cdd5-4acb-afc2-d9eab175fc8a",
      "metadata": {
        "id": "82537b04-cdd5-4acb-afc2-d9eab175fc8a"
      },
      "outputs": [],
      "source": [
        "ind=answer.find('science')"
      ]
    },
    {
      "cell_type": "code",
      "execution_count": null,
      "id": "de8fbfc3-9379-4eff-bc78-1a2fb5c078d7",
      "metadata": {
        "id": "de8fbfc3-9379-4eff-bc78-1a2fb5c078d7",
        "outputId": "468a7481-c7f7-43a5-be34-1333c56636aa"
      },
      "outputs": [
        {
          "name": "stdout",
          "output_type": "stream",
          "text": [
            "science\n"
          ]
        }
      ],
      "source": [
        "print(answer[ind:])"
      ]
    },
    {
      "cell_type": "code",
      "execution_count": null,
      "id": "324101be-6ea1-4547-a0a5-9d1e737b26fb",
      "metadata": {
        "id": "324101be-6ea1-4547-a0a5-9d1e737b26fb"
      },
      "outputs": [],
      "source": [
        "name='Justin'"
      ]
    },
    {
      "cell_type": "code",
      "execution_count": null,
      "id": "b982c781-e905-42ee-83d6-b1d04625131d",
      "metadata": {
        "id": "b982c781-e905-42ee-83d6-b1d04625131d",
        "outputId": "0d06de17-a310-4417-f6a5-4b1273c51955"
      },
      "outputs": [
        {
          "name": "stdout",
          "output_type": "stream",
          "text": [
            "Hello, I am Justin. I've been working for 5 years.\n"
          ]
        }
      ],
      "source": [
        "print(f\"Hello, I am {name}. I've been working for 5 years.\") "
      ]
    },
    {
      "cell_type": "markdown",
      "id": "40dc5bf0-ea46-4c50-9c54-97083d64b4e9",
      "metadata": {
        "id": "40dc5bf0-ea46-4c50-9c54-97083d64b4e9"
      },
      "source": [
        "Lists, Tuples, Sets, Dictionaries, Booleans "
      ]
    },
    {
      "cell_type": "code",
      "execution_count": null,
      "id": "d1a2e2f1-ec39-4b14-9aae-6c38cbde1ace",
      "metadata": {
        "tags": [],
        "id": "d1a2e2f1-ec39-4b14-9aae-6c38cbde1ace"
      },
      "outputs": [],
      "source": [
        "#create a list\n",
        "l1=[1,2,3]\n",
        "l2=[1,'hello','test',2.6]"
      ]
    },
    {
      "cell_type": "code",
      "execution_count": null,
      "id": "e2a7b45d-025b-43d5-935f-23799e575674",
      "metadata": {
        "id": "e2a7b45d-025b-43d5-935f-23799e575674",
        "outputId": "a6f3dcc5-3a34-4be1-934e-030867aa949e"
      },
      "outputs": [
        {
          "data": {
            "text/plain": [
              "[2, 3]"
            ]
          },
          "execution_count": 5,
          "metadata": {},
          "output_type": "execute_result"
        }
      ],
      "source": [
        "l1[1:]"
      ]
    },
    {
      "cell_type": "code",
      "execution_count": null,
      "id": "91339af5-0fcf-4f73-8534-2670a4f3110f",
      "metadata": {
        "id": "91339af5-0fcf-4f73-8534-2670a4f3110f",
        "outputId": "42c03fe7-57ef-4b61-cd29-28631823fbb5"
      },
      "outputs": [
        {
          "data": {
            "text/plain": [
              "4"
            ]
          },
          "execution_count": 6,
          "metadata": {},
          "output_type": "execute_result"
        }
      ],
      "source": [
        "#check the size of the list\n",
        "len(l2)"
      ]
    },
    {
      "cell_type": "code",
      "execution_count": null,
      "id": "28b6b4ef-56fe-40d7-a6df-35bf2177cd70",
      "metadata": {
        "id": "28b6b4ef-56fe-40d7-a6df-35bf2177cd70",
        "outputId": "060dc8f1-65e9-4cff-aa29-a4a3af364a81"
      },
      "outputs": [
        {
          "data": {
            "text/plain": [
              "[1, 2, 3, 1, 'hello', 'test', 2.6]"
            ]
          },
          "execution_count": 8,
          "metadata": {},
          "output_type": "execute_result"
        }
      ],
      "source": [
        "#concatenate lists\n",
        "l1+l2"
      ]
    },
    {
      "cell_type": "code",
      "execution_count": null,
      "id": "fd7b1478-81a3-4ca2-9c04-5a2e2b1426da",
      "metadata": {
        "id": "fd7b1478-81a3-4ca2-9c04-5a2e2b1426da"
      },
      "outputs": [],
      "source": [
        "#append elements to the list (append method)\n",
        "l1.append(4)"
      ]
    },
    {
      "cell_type": "code",
      "execution_count": null,
      "id": "14f7c73c-2481-4586-93f7-8b05177e4536",
      "metadata": {
        "id": "14f7c73c-2481-4586-93f7-8b05177e4536",
        "outputId": "e9d93d47-f6a5-46a3-f33f-349801473db6"
      },
      "outputs": [
        {
          "data": {
            "text/plain": [
              "1"
            ]
          },
          "execution_count": 16,
          "metadata": {},
          "output_type": "execute_result"
        }
      ],
      "source": [
        "#remove the last element from the list - default -1 (pop method)\n",
        "l1.pop()\n",
        "l1.pop(0)"
      ]
    },
    {
      "cell_type": "code",
      "execution_count": null,
      "id": "d73e2bd0-51b2-45af-8ce7-1c1d5f188b33",
      "metadata": {
        "id": "d73e2bd0-51b2-45af-8ce7-1c1d5f188b33"
      },
      "outputs": [],
      "source": [
        "new_list=['a','e','x','b','c']\n",
        "num_list=[2,1,5,3]"
      ]
    },
    {
      "cell_type": "code",
      "execution_count": null,
      "id": "f26c45a3-da65-4551-86ed-ffbcafd7624c",
      "metadata": {
        "id": "f26c45a3-da65-4551-86ed-ffbcafd7624c"
      },
      "outputs": [],
      "source": [
        "#put the elements in order\n",
        "num_list.sort()"
      ]
    },
    {
      "cell_type": "code",
      "execution_count": null,
      "id": "3b55c0b0-32cf-4f19-a563-2d06d745b350",
      "metadata": {
        "id": "3b55c0b0-32cf-4f19-a563-2d06d745b350",
        "outputId": "621d20d9-12e9-4221-f395-a71e051a89f8"
      },
      "outputs": [
        {
          "data": {
            "text/plain": [
              "'a'"
            ]
          },
          "execution_count": 24,
          "metadata": {},
          "output_type": "execute_result"
        }
      ],
      "source": [
        "min(new_list)"
      ]
    },
    {
      "cell_type": "code",
      "execution_count": null,
      "id": "5ab2d79a-818c-489f-8c55-bc7eb8c5e8cf",
      "metadata": {
        "tags": [],
        "id": "5ab2d79a-818c-489f-8c55-bc7eb8c5e8cf",
        "outputId": "023fc2f1-cef4-4bcf-e74a-334d00adcfb8"
      },
      "outputs": [
        {
          "data": {
            "text/plain": [
              "5"
            ]
          },
          "execution_count": 26,
          "metadata": {},
          "output_type": "execute_result"
        }
      ],
      "source": [
        "max(num_list)"
      ]
    },
    {
      "cell_type": "code",
      "execution_count": null,
      "id": "f319ba46-e1d0-40cc-9e82-5af356c86fa2",
      "metadata": {
        "id": "f319ba46-e1d0-40cc-9e82-5af356c86fa2"
      },
      "outputs": [],
      "source": []
    }
  ],
  "metadata": {
    "kernelspec": {
      "display_name": "Python 3 (ipykernel)",
      "language": "python",
      "name": "python3"
    },
    "language_info": {
      "codemirror_mode": {
        "name": "ipython",
        "version": 3
      },
      "file_extension": ".py",
      "mimetype": "text/x-python",
      "name": "python",
      "nbconvert_exporter": "python",
      "pygments_lexer": "ipython3",
      "version": "3.9.13"
    },
    "colab": {
      "provenance": [],
      "include_colab_link": true
    }
  },
  "nbformat": 4,
  "nbformat_minor": 5
}